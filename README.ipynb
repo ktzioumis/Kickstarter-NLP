{
 "cells": [
  {
   "cell_type": "markdown",
   "metadata": {},
   "source": [
    "# Sentiment Analysis and Word Usage of Kickstarter blurbs\n",
    "\n",
    "The dataset for this project contains the english blurb or description of 215513 kickstarter's proyects runned on 2017; 108310 successful and 107203 failed. I obtained this dataset from Kaggle - https://www.kaggle.com/oscarvilla/kickstarter-nlp. However, All this data was collected by webrobots.io, who did the web scrapping and have a lot more of data. They cleaned and tidied the scraped data, keeping just the two columns with blurbs in english and with final state of \"successful\" or \"failed\".\n",
    "\n",
    "> Kickstarter is an American public-benefit corporation2 based in  Brooklyn, New York, that maintains a global crowdfunding platform  focused on creativity and merchandising.3 The company's stated mission is to \"help bring creative projects to life\". Kickstarter has reportedly received more than $1.9 billion in pledges from 9.4  million backers to fund 257,000 creative projects, such as films, music, stage shows, comics, journalism, video games, technology and food-related projects. People who back Kickstarter projects are offered tangible rewards or > experiences in exchange for their pledges. This model traces its roots to subscription model of arts patronage, where artists would go directly to their audiences to fund their work.\n",
    "\n",
    "<b>- Wikipedia<b>"
   ]
  },
  {
   "cell_type": "code",
   "execution_count": null,
   "metadata": {},
   "outputs": [],
   "source": []
  }
 ],
 "metadata": {
  "kernelspec": {
   "display_name": "Python 3",
   "language": "python",
   "name": "python3"
  },
  "language_info": {
   "codemirror_mode": {
    "name": "ipython",
    "version": 3
   },
   "file_extension": ".py",
   "mimetype": "text/x-python",
   "name": "python",
   "nbconvert_exporter": "python",
   "pygments_lexer": "ipython3",
   "version": "3.7.1"
  }
 },
 "nbformat": 4,
 "nbformat_minor": 2
}
