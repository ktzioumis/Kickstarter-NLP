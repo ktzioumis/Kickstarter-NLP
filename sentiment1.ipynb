{
 "cells": [
  {
   "cell_type": "code",
   "execution_count": 2,
   "metadata": {},
   "outputs": [
    {
     "name": "stdout",
     "output_type": "stream",
     "text": [
      "Collecting monkeylearn\n",
      "  Downloading https://files.pythonhosted.org/packages/10/a8/26ae61f740287613ed8ed5a89193c6eee19cda7292cee911b2030e4c2b9b/monkeylearn-3.5.0.tar.gz\n",
      "Requirement already satisfied: requests>=2.8.1 in c:\\kosta\\anaconda3\\lib\\site-packages (from monkeylearn) (2.21.0)\n",
      "Requirement already satisfied: six>=1.10.0 in c:\\kosta\\anaconda3\\lib\\site-packages (from monkeylearn) (1.12.0)\n",
      "Requirement already satisfied: urllib3<1.25,>=1.21.1 in c:\\kosta\\anaconda3\\lib\\site-packages (from requests>=2.8.1->monkeylearn) (1.24.1)\n",
      "Requirement already satisfied: chardet<3.1.0,>=3.0.2 in c:\\kosta\\anaconda3\\lib\\site-packages (from requests>=2.8.1->monkeylearn) (3.0.4)\n",
      "Requirement already satisfied: certifi>=2017.4.17 in c:\\kosta\\anaconda3\\lib\\site-packages (from requests>=2.8.1->monkeylearn) (2018.11.29)\n",
      "Requirement already satisfied: idna<2.9,>=2.5 in c:\\kosta\\anaconda3\\lib\\site-packages (from requests>=2.8.1->monkeylearn) (2.8)\n",
      "Building wheels for collected packages: monkeylearn\n",
      "  Running setup.py bdist_wheel for monkeylearn: started\n",
      "  Running setup.py bdist_wheel for monkeylearn: finished with status 'done'\n",
      "  Stored in directory: C:\\Users\\CERAMICS\\AppData\\Local\\pip\\Cache\\wheels\\dd\\d5\\58\\393f7b0e9a33292b70a1b485f8d5df62d1fc0556df23ef91ea\n",
      "Successfully built monkeylearn\n",
      "Installing collected packages: monkeylearn\n",
      "Successfully installed monkeylearn-3.5.0\n",
      "[{'text': 'This is a great tool!', 'external_id': None, 'error': False, 'classifications': [{'tag_name': 'Positive', 'tag_id': 60333048, 'confidence': 0.998}]}]\n"
     ]
    }
   ],
   "source": [
    "!pip install monkeylearn\n",
    "from monkeylearn import MonkeyLearn\n",
    "\n",
    "ml = MonkeyLearn('5e13aaaa33e41f53e30edb6f917d9d6bb207c802')\n",
    "data = [\"This is a great tool!\"]\n",
    "model_id = 'cl_pi3C7JiL'\n",
    "result = ml.classifiers.classify(model_id, data)\n",
    "print(result.body)"
   ]
  },
  {
   "cell_type": "code",
   "execution_count": 4,
   "metadata": {},
   "outputs": [
    {
     "name": "stdout",
     "output_type": "stream",
     "text": [
      "[{'text': 'Space Chronicles is a free-to-play MMORPG you can play in your browser', 'external_id': None, 'error': False, 'classifications': [{'tag_name': 'Positive', 'tag_id': 60333048, 'confidence': 0.66}]}]\n"
     ]
    }
   ],
   "source": [
    "result = ml.classifiers.classify(model_id, ['Space Chronicles is a free-to-play MMORPG you can play in your browser'])\n",
    "print(result.body)"
   ]
  },
  {
   "cell_type": "code",
   "execution_count": 12,
   "metadata": {},
   "outputs": [
    {
     "data": {
      "text/plain": [
       "[{'tag_name': 'Positive', 'tag_id': 60333048, 'confidence': 0.66}]"
      ]
     },
     "execution_count": 12,
     "metadata": {},
     "output_type": "execute_result"
    }
   ],
   "source": [
    "result.body[0]['classifications']"
   ]
  },
  {
   "cell_type": "code",
   "execution_count": 14,
   "metadata": {},
   "outputs": [
    {
     "data": {
      "text/plain": [
       "'Positive'"
      ]
     },
     "execution_count": 14,
     "metadata": {},
     "output_type": "execute_result"
    }
   ],
   "source": [
    "result.body[0]['classifications'][0]['tag_name']"
   ]
  },
  {
   "cell_type": "code",
   "execution_count": 15,
   "metadata": {},
   "outputs": [
    {
     "data": {
      "text/plain": [
       "0.66"
      ]
     },
     "execution_count": 15,
     "metadata": {},
     "output_type": "execute_result"
    }
   ],
   "source": [
    "result.body[0]['classifications'][0]['confidence']"
   ]
  },
  {
   "cell_type": "code",
   "execution_count": null,
   "metadata": {},
   "outputs": [],
   "source": []
  }
 ],
 "metadata": {
  "kernelspec": {
   "display_name": "Python 3",
   "language": "python",
   "name": "python3"
  },
  "language_info": {
   "codemirror_mode": {
    "name": "ipython",
    "version": 3
   },
   "file_extension": ".py",
   "mimetype": "text/x-python",
   "name": "python",
   "nbconvert_exporter": "python",
   "pygments_lexer": "ipython3",
   "version": "3.7.1"
  }
 },
 "nbformat": 4,
 "nbformat_minor": 2
}
