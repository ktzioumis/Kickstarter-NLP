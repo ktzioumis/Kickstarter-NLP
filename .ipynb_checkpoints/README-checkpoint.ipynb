{
 "cells": [
  {
   "cell_type": "markdown",
   "metadata": {},
   "source": [
    "# KickStarter - NLP Sentiment Analysis and Word Usage or: Help Us to Film a New, Short, Documentary about a Tabletop Miniature Festival (which I am slightly unhappy about)\n",
    "\n",
    "The dataset for this project contains the english blurb or description of 215513 kickstarter's projects i2017; 108310 successful and 107203 failed. All this data was collected by webrobots.io, who did the web scrapping and have a lot more of data. They cleaned and tidied the scraped data, keeping just the two columns with blurbs in english and with final state of \"successful\" or \"failed\".\n",
    "\n",
    "> Kickstarter is an American public-benefit corporation based in  Brooklyn, New York, that maintains a global crowdfunding platform  focused on creativity and merchandising. The company's stated mission is to \"help bring creative projects to life\". Kickstarter has reportedly received more than $1.9 billion in pledges from 9.4  million backers to fund 257,000 creative projects, such as films, music, stage shows, comics, journalism, video games, technology and food-related projects. People who back Kickstarter projects are offered tangible rewards or experiences in exchange for their pledges. This model traces its roots to subscription model of arts patronage, where artists would go directly to their audiences to fund their work.\n",
    "\n",
    "<b>- Wikipedia</b>\n",
    "\n",
    "This notebook uses NLTK's Sentiment Analyzer to score blurbs on Positive, Neutral or Negative sentiment and a Compound score for overall sentiment and Tokenizer for word counts.\n",
    "\n",
    "Data Visualization performed using Plotly\n",
    "\n",
    "\n",
    "\n",
    "\"th\" is most like a leftover from removing the numbers eg. \"4th\" becomes just \"th\". From the above charts this would indicate successive campaigns i.e those that merits a 4th campaign have 3 prior successful campaigns and therefore are likely to have returning backers.\n",
    "\"mm\" may relate to miniatures and tabletop games, which are have very high success to failure differences and ratios \n",
    "\n",
    "## Conclusions\n",
    "\n",
    "The Sentiment of Kickstarter blurbs is mostly positive, however this seems to actually be detrimental to success as demonstrated in the t-test.<br>\n",
    "Interestingly, things that are \"new\" and \"first\" have high positive success differences and so do successive projects to previous kickstarters i.e things that merit a 'th'. Being both new AND repetitious are postive attributes <br>\n",
    "\"Tabletop\", \"miniature\" and \"dice\" have incredibly high success rates as do \"film\", especially a \"documentary\", as do \"dance\" projects.<br>\n",
    "\"Us\" and \"We're\" both have significant positive differences and ratios indicating backers are in favour of group efforts.<br>\n",
    "Phrasing does appear to matter somewhat - \"music\" projects are mostly unsuccessful but \"albums\" are mostly successful. <br>\n",
    "\n",
    "Asking to help us film a new, short, documentary about a tabletop miniature festival is a sure-fire hit! "
   ]
  },
  {
   "cell_type": "code",
   "execution_count": null,
   "metadata": {},
   "outputs": [],
   "source": []
  }
 ],
 "metadata": {
  "kernelspec": {
   "display_name": "Python 3",
   "language": "python",
   "name": "python3"
  },
  "language_info": {
   "codemirror_mode": {
    "name": "ipython",
    "version": 3
   },
   "file_extension": ".py",
   "mimetype": "text/x-python",
   "name": "python",
   "nbconvert_exporter": "python",
   "pygments_lexer": "ipython3",
   "version": "3.7.0"
  }
 },
 "nbformat": 4,
 "nbformat_minor": 2
}
